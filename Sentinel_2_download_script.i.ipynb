{
 "cells": [
  {
   "cell_type": "code",
   "execution_count": 1,
   "id": "48fa5557-40e2-44e5-9fed-b2d143b1dc0a",
   "metadata": {},
   "outputs": [
    {
     "name": "stderr",
     "output_type": "stream",
     "text": [
      "C:\\Users\\Momin.Ashraf\\AppData\\Local\\miniconda3\\envs\\pycopern\\Lib\\site-packages\\tqdm\\auto.py:21: TqdmWarning: IProgress not found. Please update jupyter and ipywidgets. See https://ipywidgets.readthedocs.io/en/stable/user_install.html\n",
      "  from .autonotebook import tqdm as notebook_tqdm\n"
     ]
    }
   ],
   "source": [
    "# Utilities\n",
    "import fiona\n",
    "from shapely.geometry import shape, mapping  # Ensure this is imported\n",
    "import os\n",
    "import datetime\n",
    "import numpy as np\n",
    "import matplotlib.pyplot as plt\n",
    "import pandas as pd\n",
    "import requests\n",
    "import getpass\n",
    "\n",
    "from sentinelhub import (\n",
    "    SHConfig,\n",
    "    DataCollection,\n",
    "    SentinelHubCatalog,\n",
    "    SentinelHubRequest,\n",
    "    BBox,\n",
    "    bbox_to_dimensions,\n",
    "    CRS,\n",
    "    MimeType,\n",
    "    Geometry,\n",
    ")\n",
    "\n",
    "from utils import plot_image"
   ]
  },
  {
   "cell_type": "markdown",
   "id": "4701a3aa-69dd-4c96-b3b9-5543f5f45caf",
   "metadata": {},
   "source": [
    "Load json or txt file"
   ]
  },
  {
   "cell_type": "code",
   "execution_count": 11,
   "id": "c73435a0-d1f3-4c8b-aebb-ef0c7de9b896",
   "metadata": {},
   "outputs": [],
   "source": [
    "with open('credentials.txt', 'r') as f:\n",
    "    credentials = dict(line.strip().split('=', 1) for line in f if '=' in line)\n",
    "# Access the credentials\n",
    "password = credentials.get('COPERNICUS_PASSWORD')\n",
    "username = credentials.get('COPERNICUS_USERNAME')\n",
    "aoi_path = credentials.get(r'AOIPATH')\n",
    "start_date = credentials.get('STARTDATE')\n",
    "end_date = credentials.get('ENDDATE') \n",
    "cloud_filter = credentials.get('CLOUDFILTER')\n",
    "output_name = credentials.get('OUTPUTNAME')"
   ]
  },
  {
   "cell_type": "markdown",
   "id": "6e1adec6-b87e-4fd8-8df6-fd6a0a0f9b5e",
   "metadata": {},
   "source": [
    "Convert polygon to wkt"
   ]
  },
  {
   "cell_type": "code",
   "execution_count": 25,
   "id": "4a991711-dced-4fde-9772-2226f84d7fae",
   "metadata": {},
   "outputs": [
    {
     "name": "stdout",
     "output_type": "stream",
     "text": [
      "POLYGON((-1.06482362615344 51.4775993109376,-1.0648176309286 51.4767329603795,-1.06360890264833 51.4766474543255,-1.0635910538134 51.4775435502895,-1.06482362615344 51.4775993109376))'\n"
     ]
    }
   ],
   "source": [
    "import fiona\n",
    "from shapely.geometry import shape, mapping, Polygon\n",
    "\n",
    "# Open the shapefile or GeoPackage\n",
    "# Open the shapefile or GeoPackage\n",
    "with fiona.open(aoi_path) as shp:\n",
    "    for feature in shp:\n",
    "        geometry = shape(feature[\"geometry\"])\n",
    "\n",
    "        # Check if the geometry has Z and strip it\n",
    "        if geometry.has_z:\n",
    "            # Create a 2D version of the geometry\n",
    "            geometry_2d = Polygon([(x, y) for x, y, z in geometry.exterior.coords])\n",
    "            wkt = geometry_2d.wkt\n",
    "\n",
    "            # Adjust WKT format to match the desired style\n",
    "            wkt_fixed = wkt.replace('POLYGON (', 'POLYGON(').replace(', ', ',').replace(' ', ' ')\n",
    "          \n",
    "\n",
    "aoi_1 = wkt_fixed\n",
    "aoi = f\"{aoi_1}'\"\n",
    "print(aoi)\n"
   ]
  },
  {
   "cell_type": "markdown",
   "id": "b8872dda-ff0c-4d47-8662-18e35df7c89a",
   "metadata": {},
   "source": [
    "Send json request to copernicus API"
   ]
  },
  {
   "cell_type": "code",
   "execution_count": 26,
   "id": "f2e6f277-5daf-41d8-b8c4-35c180ee671b",
   "metadata": {},
   "outputs": [
    {
     "data": {
      "text/html": [
       "<div>\n",
       "<style scoped>\n",
       "    .dataframe tbody tr th:only-of-type {\n",
       "        vertical-align: middle;\n",
       "    }\n",
       "\n",
       "    .dataframe tbody tr th {\n",
       "        vertical-align: top;\n",
       "    }\n",
       "\n",
       "    .dataframe thead th {\n",
       "        text-align: right;\n",
       "    }\n",
       "</style>\n",
       "<table border=\"1\" class=\"dataframe\">\n",
       "  <thead>\n",
       "    <tr style=\"text-align: right;\">\n",
       "      <th></th>\n",
       "      <th>Id</th>\n",
       "      <th>Name</th>\n",
       "      <th>GeoFootprint</th>\n",
       "    </tr>\n",
       "  </thead>\n",
       "  <tbody>\n",
       "    <tr>\n",
       "      <th>0</th>\n",
       "      <td>f3028d33-e7a2-4a71-acdb-8c53e4d6169c</td>\n",
       "      <td>S2B_MSIL2A_20250125T111239_N0511_R137_T30UXC_2...</td>\n",
       "      <td>{'type': 'Polygon', 'coordinates': [[[-1.53211...</td>\n",
       "    </tr>\n",
       "    <tr>\n",
       "      <th>1</th>\n",
       "      <td>aa94321a-711d-4ab7-ba7e-246307d9662a</td>\n",
       "      <td>S2B_MSIL2A_20241126T111319_N0511_R137_T30UXC_2...</td>\n",
       "      <td>{'type': 'Polygon', 'coordinates': [[[-1.53211...</td>\n",
       "    </tr>\n",
       "    <tr>\n",
       "      <th>2</th>\n",
       "      <td>0b2b31b5-f4ba-4049-8167-7317f9e5ff10</td>\n",
       "      <td>S2A_MSIL2A_20240823T110621_N0511_R137_T30UXC_2...</td>\n",
       "      <td>{'type': 'Polygon', 'coordinates': [[[-1.53211...</td>\n",
       "    </tr>\n",
       "    <tr>\n",
       "      <th>3</th>\n",
       "      <td>4f9e4f25-0da0-4d87-8f8b-2c86036773ed</td>\n",
       "      <td>S2B_MSIL2A_20240729T110619_N0511_R137_T30UXC_2...</td>\n",
       "      <td>{'type': 'Polygon', 'coordinates': [[[-1.53211...</td>\n",
       "    </tr>\n",
       "    <tr>\n",
       "      <th>4</th>\n",
       "      <td>63696991-86e4-42d2-ae50-fda3b478abd8</td>\n",
       "      <td>S2B_MSIL2A_20240719T110619_N0510_R137_T30UXC_2...</td>\n",
       "      <td>{'type': 'Polygon', 'coordinates': [[[-1.53211...</td>\n",
       "    </tr>\n",
       "    <tr>\n",
       "      <th>5</th>\n",
       "      <td>62b8af62-dc4e-40d5-b15e-c6a523928b38</td>\n",
       "      <td>S2B_MSIL2A_20240520T110619_N0510_R137_T30UXC_2...</td>\n",
       "      <td>{'type': 'Polygon', 'coordinates': [[[-1.53211...</td>\n",
       "    </tr>\n",
       "    <tr>\n",
       "      <th>6</th>\n",
       "      <td>60c790ab-fa08-4768-b05e-43edf1db0bd1</td>\n",
       "      <td>S2A_MSIL2A_20240126T111331_N0510_R137_T30UXC_2...</td>\n",
       "      <td>{'type': 'Polygon', 'coordinates': [[[-1.53211...</td>\n",
       "    </tr>\n",
       "  </tbody>\n",
       "</table>\n",
       "</div>"
      ],
      "text/plain": [
       "                                     Id  \\\n",
       "0  f3028d33-e7a2-4a71-acdb-8c53e4d6169c   \n",
       "1  aa94321a-711d-4ab7-ba7e-246307d9662a   \n",
       "2  0b2b31b5-f4ba-4049-8167-7317f9e5ff10   \n",
       "3  4f9e4f25-0da0-4d87-8f8b-2c86036773ed   \n",
       "4  63696991-86e4-42d2-ae50-fda3b478abd8   \n",
       "5  62b8af62-dc4e-40d5-b15e-c6a523928b38   \n",
       "6  60c790ab-fa08-4768-b05e-43edf1db0bd1   \n",
       "\n",
       "                                                Name  \\\n",
       "0  S2B_MSIL2A_20250125T111239_N0511_R137_T30UXC_2...   \n",
       "1  S2B_MSIL2A_20241126T111319_N0511_R137_T30UXC_2...   \n",
       "2  S2A_MSIL2A_20240823T110621_N0511_R137_T30UXC_2...   \n",
       "3  S2B_MSIL2A_20240729T110619_N0511_R137_T30UXC_2...   \n",
       "4  S2B_MSIL2A_20240719T110619_N0510_R137_T30UXC_2...   \n",
       "5  S2B_MSIL2A_20240520T110619_N0510_R137_T30UXC_2...   \n",
       "6  S2A_MSIL2A_20240126T111331_N0510_R137_T30UXC_2...   \n",
       "\n",
       "                                        GeoFootprint  \n",
       "0  {'type': 'Polygon', 'coordinates': [[[-1.53211...  \n",
       "1  {'type': 'Polygon', 'coordinates': [[[-1.53211...  \n",
       "2  {'type': 'Polygon', 'coordinates': [[[-1.53211...  \n",
       "3  {'type': 'Polygon', 'coordinates': [[[-1.53211...  \n",
       "4  {'type': 'Polygon', 'coordinates': [[[-1.53211...  \n",
       "5  {'type': 'Polygon', 'coordinates': [[[-1.53211...  \n",
       "6  {'type': 'Polygon', 'coordinates': [[[-1.53211...  "
      ]
     },
     "execution_count": 26,
     "metadata": {},
     "output_type": "execute_result"
    }
   ],
   "source": [
    "# API request URL\n",
    "json = requests.get(f\"https://catalogue.dataspace.copernicus.eu/odata/v1/Products?$filter=Collection/Name eq 'SENTINEL-2' and OData.CSC.Intersects(area=geography'SRID=4326;{aoi}) and Attributes/OData.CSC.DoubleAttribute/any(att:att/Name eq 'cloudCover' and att/OData.CSC.DoubleAttribute/Value lt {cloud_filter}) and Attributes/OData.CSC.StringAttribute/any(att:att/Name eq 'productType' and att/OData.CSC.StringAttribute/Value eq 'S2MSI2A') and ContentDate/Start gt {start_date}T00:00:00.000Z and ContentDate/Start lt {end_date}T00:00:00.000Z&$orderby=ContentDate/Start desc\").json()\n",
    "\n",
    "df = pd.DataFrame.from_dict(json['value'])\n",
    "\n",
    "# Print only specific columns\n",
    "columns_to_print = ['Id', 'Name','GeoFootprint',]  \n",
    "df[columns_to_print]"
   ]
  },
  {
   "cell_type": "markdown",
   "id": "91ef4231-3069-4dfc-9e95-209ed377777d",
   "metadata": {},
   "source": [
    "Select most recent image ID"
   ]
  },
  {
   "cell_type": "code",
   "execution_count": 29,
   "id": "b59de97d-3107-4186-88be-77d852009d4f",
   "metadata": {},
   "outputs": [
    {
     "data": {
      "text/plain": [
       "'f3028d33-e7a2-4a71-acdb-8c53e4d6169c'"
      ]
     },
     "execution_count": 29,
     "metadata": {},
     "output_type": "execute_result"
    }
   ],
   "source": [
    "df2 = df.iloc[0]['Id']\n",
    "df2"
   ]
  },
  {
   "cell_type": "markdown",
   "id": "73fa3876-cb84-47ab-90b0-6ea2e13fe235",
   "metadata": {},
   "source": [
    "authenticate account to prepare download"
   ]
  },
  {
   "cell_type": "code",
   "execution_count": 18,
   "id": "782fac2b-4df7-49b8-a6b1-a22cf627784b",
   "metadata": {},
   "outputs": [],
   "source": [
    "def get_access_token(username: str, password: str) -> str:\n",
    "    data = {\n",
    "        \"client_id\": \"cdse-public\",\n",
    "        \"username\": username,\n",
    "        \"password\": password,\n",
    "        \"grant_type\": \"password\",\n",
    "    }\n",
    "    try:\n",
    "        r = requests.post(\n",
    "            \"https://identity.dataspace.copernicus.eu/auth/realms/CDSE/protocol/openid-connect/token\",\n",
    "            data=data,\n",
    "        )\n",
    "        r.raise_for_status()\n",
    "    except Exception as e:\n",
    "        raise Exception(\n",
    "            f\"Access token creation failed. Response from the server was: {r.json()}\"\n",
    "        )\n",
    "    return r.json()[\"access_token\"]\n",
    "\n",
    "# Automatically use credentials from the file\n",
    "access_token = get_access_token(username, password)"
   ]
  },
  {
   "cell_type": "markdown",
   "id": "551dba78-6184-4786-9287-0e3af0f2eb41",
   "metadata": {},
   "source": [
    "order image and download to working directory"
   ]
  },
  {
   "cell_type": "code",
   "execution_count": 117,
   "id": "1f303369-212b-442f-a249-1c48690d71bb",
   "metadata": {},
   "outputs": [
    {
     "name": "stdout",
     "output_type": "stream",
     "text": [
      "IMAGEOUTPUT is currently being downloaded\n",
      "IMAGEOUTPUT has now been exported as a .zip file in your working directory\n"
     ]
    }
   ],
   "source": [
    "url = f\"https://zipper.dataspace.copernicus.eu/odata/v1/Products({df2})/$value\"\n",
    "\n",
    "headers = {\"Authorization\": f\"Bearer {access_token}\"}\n",
    "\n",
    "session = requests.Session()\n",
    "session.headers.update(headers)\n",
    "response = session.get(url, headers=headers, stream=True)\n",
    "\n",
    "print(f'{output_name} is currently being downloaded')\n",
    "\n",
    "with open(f\"{output_name}.zip\", \"wb\") as file:\n",
    "    for chunk in response.iter_content(chunk_size=8192):\n",
    "        if chunk:\n",
    "            file.write(chunk)\n",
    "\n",
    "print(f'{output_name} has now been exported as a .zip file in your working directory') "
   ]
  }
 ],
 "metadata": {
  "kernelspec": {
   "display_name": "Python 3 (ipykernel)",
   "language": "python",
   "name": "python3"
  },
  "language_info": {
   "codemirror_mode": {
    "name": "ipython",
    "version": 3
   },
   "file_extension": ".py",
   "mimetype": "text/x-python",
   "name": "python",
   "nbconvert_exporter": "python",
   "pygments_lexer": "ipython3",
   "version": "3.13.0"
  }
 },
 "nbformat": 4,
 "nbformat_minor": 5
}
